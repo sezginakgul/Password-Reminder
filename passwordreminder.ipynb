{
  "nbformat": 4,
  "nbformat_minor": 0,
  "metadata": {
    "colab": {
      "name": "passwordreminder.ipynb",
      "provenance": [],
      "collapsed_sections": []
    },
    "kernelspec": {
      "name": "python3",
      "display_name": "Python 3"
    },
    "language_info": {
      "name": "python"
    }
  },
  "cells": [
    {
      "cell_type": "markdown",
      "source": [
        "Task : Let's say; you left a message in the past that prints a password you need. To see the password you wrote, you need to enter your name and the program should recognize you.\n",
        "Write a program that \n",
        "\n",
        "Takes the first name from the user and compares it to yours,\n",
        "Then if the name the user entered is the same as yours, print out such as : \"Hello, Joseph! The password is : W@12\",\n",
        "If the name the user entered is not the same as yours, print out such as : \"Hello, Amina! See you later.\""
      ],
      "metadata": {
        "id": "vINeld-nl7hR"
      }
    },
    {
      "cell_type": "code",
      "execution_count": null,
      "metadata": {
        "id": "0i46WpMJl0z2"
      },
      "outputs": [],
      "source": [
        "name = \"Sezgin\"\n",
        "password = \"Clarusway53\"\n",
        "inp_name = input(\"Please enter your name:\").capitalize()\n",
        "\n",
        "if inp_name == name :\n",
        "  print(f\"Hello {name}, your password is : {password}\")\n",
        "else:\n",
        "  print(f\"Hello {inp_name}, please enter the name correctly.\")"
      ]
    }
  ]
}